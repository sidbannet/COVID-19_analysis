{
  "nbformat": 4,
  "nbformat_minor": 0,
  "metadata": {
    "colab": {
      "name": "COVID-19 dashboard",
      "provenance": [],
      "collapsed_sections": [
        "URVFIiSZv6eF",
        "clYmV2OUz2lS",
        "yU1PjjwzOb__"
      ],
      "toc_visible": true,
      "authorship_tag": "ABX9TyN6sP614wdFGOBCga/ohiOa",
      "include_colab_link": true
    },
    "kernelspec": {
      "name": "python3",
      "display_name": "Python 3"
    }
  },
  "cells": [
    {
      "cell_type": "markdown",
      "metadata": {
        "id": "view-in-github",
        "colab_type": "text"
      },
      "source": [
        "<a href=\"https://colab.research.google.com/github/sidbannet/COVID-19_analysis/blob/master/COVID_19_dashboard.ipynb\" target=\"_parent\"><img src=\"https://colab.research.google.com/assets/colab-badge.svg\" alt=\"Open In Colab\"/></a>"
      ]
    },
    {
      "cell_type": "markdown",
      "metadata": {
        "id": "ClysgQctcY-Z",
        "colab_type": "text"
      },
      "source": [
        "# About open-source COVID-19 dashboard\n",
        "\n",
        "\n",
        "---\n",
        "This is 2019 Novel Coronavirus Visual Dashboard operated by [Siddhartha Banerjee](https://www.linkedin.com/in/sidban) by using data published by the Johns Hopkins University Center for Systems Science and Engineering (JHU CSSE). Also, Supported by ESRI Living Atlas Team and the Johns Hopkins University Applied Physics Lab (JHU APL).\n",
        "\n",
        "**Data Sources**:\n",
        "\n",
        "World Health Organization (WHO): https://www.who.int/ DXY.cn. Pneumonia. 2020. http://3g.dxy.cn/newh5/view/pneumonia. BNO News: https://bnonews.com/index.php/2020/02/the-latest-coronavirus-cases/ National Health Commission of the People’s Republic of China (NHC): http://www.nhc.gov.cn/xcs/yqtb/list_gzbd.shtml China CDC (CCDC): http://weekly.chinacdc.cn/news/TrackingtheEpidemic.htm Hong Kong Department of Health: https://www.chp.gov.hk/en/features/102465.html Macau Government: https://www.ssm.gov.mo/portal/ Taiwan CDC: https://sites.google.com/cdc.gov.tw/2019ncov/taiwan?authuser=0 US CDC: https://www.cdc.gov/coronavirus/2019-ncov/index.html Government of Canada: https://www.canada.ca/en/public-health/services/diseases/coronavirus.html Australia Government Department of Health: https://www.health.gov.au/news/coronavirus-update-at-a-glance European Centre for Disease Prevention and Control (ECDC): https://www.ecdc.europa.eu/en/geographical-distribution-2019-ncov-cases Ministry of Health Singapore (MOH): https://www.moh.gov.sg/covid-19 Italy Ministry of Health: http://www.salute.gov.it/nuovocoronavirus 1Point3Arces: https://coronavirus.1point3acres.com/en WorldoMeters: https://www.worldometers.info/coronavirus/\n",
        "\n",
        "Additional Information about the data source: https://systems.jhu.edu/research/public-health/ncov/\n",
        "\n",
        "**Contact Me**: \n",
        "sidban@uwalumni.com\n"
      ]
    },
    {
      "cell_type": "markdown",
      "metadata": {
        "id": "ttxDgqG0wCbh",
        "colab_type": "text"
      },
      "source": [
        "# Author Bio\n",
        "\n",
        "[LinkedIn profile](https://www.linkedin.com/in/sidban)\n",
        "\n",
        "[Resume](https://docs.google.com/document/d/1uVc9le7LM2WMmGM4ub9w2uI1FY7I63h7SBxNGyIItWc/edit?usp=sharing)\n",
        "\n",
        "[GitHub](https://github.com/sidbannet?tab=repositories)\n",
        "\n",
        "---\n",
        "I develop **high-performance computation models** to understand *turbulence flow*, *multi-phase flow* and *combustion flames*. I apply **data-science** to accelerate design innovations in *propulsion* device.\n",
        "\n",
        "I received **PhD** from **University of Wisconsin - Madison** in 2011 with major in **Mechanical and Chemical Engineering** and distributed minor in *Mathamatics*, *Statistics* and *Computer Science*.\n",
        "\n",
        "I received recognitions for my work in clean propulsion innovation from [United States Deparment Of Energy](https://www.energy.gov/eere/vehicles/vehicle-technologies-office) and [Dr. Stephen Chu](https://en.wikipedia.org/wiki/Steven_Chu)."
      ]
    },
    {
      "cell_type": "markdown",
      "metadata": {
        "id": "Qx-xElTvdSvk",
        "colab_type": "text"
      },
      "source": [
        "# Clone the Git repository\n",
        "\n",
        "---\n",
        "\n",
        "*   Clone code and data repository\n",
        "*   Setup environmental variables"
      ]
    },
    {
      "cell_type": "code",
      "metadata": {
        "id": "jmt92ggNdmYj",
        "colab_type": "code",
        "outputId": "9e450d06-1569-4f4f-f470-eac17c9531e8",
        "colab": {
          "base_uri": "https://localhost:8080/",
          "height": 204
        }
      },
      "source": [
        "# Clone repository\n",
        "!git clone https://github.com/sidbannet/COVID-19_analysis.git\n",
        "%cd ./COVID-19_analysis\n",
        "!git submodule init\n",
        "!git submodule update --remote"
      ],
      "execution_count": 1,
      "outputs": [
        {
          "output_type": "stream",
          "text": [
            "Cloning into 'COVID-19_analysis'...\n",
            "remote: Enumerating objects: 211, done.\u001b[K\n",
            "remote: Counting objects: 100% (211/211), done.\u001b[K\n",
            "remote: Compressing objects: 100% (127/127), done.\u001b[K\n",
            "remote: Total 572 (delta 121), reused 158 (delta 81), pack-reused 361\u001b[K\n",
            "Receiving objects: 100% (572/572), 14.45 MiB | 19.54 MiB/s, done.\n",
            "Resolving deltas: 100% (329/329), done.\n",
            "/content/COVID-19_analysis\n",
            "Submodule 'JHU_repo' (https://github.com/sidbannet/COVID-19.git) registered for path 'JHU_repo'\n",
            "Cloning into '/content/COVID-19_analysis/JHU_repo'...\n",
            "Submodule path 'JHU_repo': checked out 'f33f5019f12820fef6c943c82ebeb111c769ad8d'\n"
          ],
          "name": "stdout"
        }
      ]
    },
    {
      "cell_type": "markdown",
      "metadata": {
        "id": "5ljCCd-bd-dX",
        "colab_type": "text"
      },
      "source": [
        "# Load packages\n",
        "---\n",
        "*   Analysis tools\n",
        "*   Plotting tools"
      ]
    },
    {
      "cell_type": "code",
      "metadata": {
        "id": "stO3t_koeEU4",
        "colab_type": "code",
        "colab": {}
      },
      "source": [
        "# Import nessesary modules\n",
        "from tools import collection as cll\n",
        "import plotly.tools as tls\n",
        "from plotly.offline import iplot\n",
        "import plotly.express as px"
      ],
      "execution_count": 0,
      "outputs": []
    },
    {
      "cell_type": "markdown",
      "metadata": {
        "id": "cBp-P3obegs0",
        "colab_type": "text"
      },
      "source": [
        "# Parse data from the database\n",
        "---\n",
        "\n",
        "*   Setup classes containing the data and methods to parse data\n",
        "*   Parse the data\n",
        "\n"
      ]
    },
    {
      "cell_type": "code",
      "metadata": {
        "id": "xWAhrRasfHdw",
        "colab_type": "code",
        "colab": {}
      },
      "source": [
        "# Setup data class and parse the database\n",
        "d = cll.DataClass()\n",
        "d.parse()"
      ],
      "execution_count": 0,
      "outputs": []
    },
    {
      "cell_type": "code",
      "metadata": {
        "id": "oMFWn1UQ3akT",
        "colab_type": "code",
        "colab": {}
      },
      "source": [
        "d._parse_timeseries_()\n",
        "df_us = d.df_geo_us"
      ],
      "execution_count": 0,
      "outputs": []
    },
    {
      "cell_type": "markdown",
      "metadata": {
        "id": "URVFIiSZv6eF",
        "colab_type": "text"
      },
      "source": [
        "# Priliminary analysis of parsed data\n",
        "\n",
        "Optional plots to check out the trends by comparing the rate of increase of COVID cases against the total number of COVID cases. This is a test to check the integrety of the data using very basic data analysis and trend forcasting."
      ]
    },
    {
      "cell_type": "code",
      "metadata": {
        "id": "_T9JCTP8jCnN",
        "colab_type": "code",
        "cellView": "form",
        "colab": {}
      },
      "source": [
        "#@title\n",
        "# Setup figure objects\n",
        "d.__window__ = 5\n",
        "fig, ax = d.plots()\n",
        "[axes.legend() for axes in ax.flat]\n",
        "fig.set_size_inches(w=24, h=12)"
      ],
      "execution_count": 0,
      "outputs": []
    },
    {
      "cell_type": "markdown",
      "metadata": {
        "id": "clYmV2OUz2lS",
        "colab_type": "text"
      },
      "source": [
        "# Plot COVID-19 trends\n",
        "---\n",
        "Plot COVID-19 time series data per country and per state basis with\n",
        "*   Number of confirmed cases\n",
        "*   Number of deaths from COVID\n",
        "*   Number of recovered from COVID\n",
        "\n",
        "Plot these variables in log scale to highlight exponential growth in pandemic against days since initial outbreak."
      ]
    },
    {
      "cell_type": "code",
      "metadata": {
        "id": "CyYoIo7YzMz1",
        "colab_type": "code",
        "colab": {}
      },
      "source": [
        "# Make some meaningful timeseries plots\n",
        "fig, ax = d.plots_timeseries(\n",
        "  n_outbreak=500, n_filter_country=10000, n_filter_state=5000)\n",
        "fig.set_size_inches(w=24, h=12)\n",
        "_ = [axes.set_ylim([10, 50000]) for axes in ax[:, 1].flat]\n",
        "_ = ax[0, 0].set_xlim([0, 50])\n",
        "_ = ax[0, 0].get_legend().remove()\n",
        "_ = ax[0, 1].get_legend().remove()\n",
        "_ = ax[1, 0].get_legend().remove()\n",
        "_ = ax[1, 1].get_legend().remove()"
      ],
      "execution_count": 0,
      "outputs": []
    },
    {
      "cell_type": "code",
      "metadata": {
        "id": "4I6SzIRJiJg-",
        "colab_type": "code",
        "colab": {}
      },
      "source": [
        "# Convert and plot in plotly\n",
        "plotly_fig = tls.mpl_to_plotly(fig) \n",
        "iplot(plotly_fig)"
      ],
      "execution_count": 0,
      "outputs": []
    },
    {
      "cell_type": "markdown",
      "metadata": {
        "id": "yU1PjjwzOb__",
        "colab_type": "text"
      },
      "source": [
        "# Global spread of COVID-19\n",
        "\n",
        "In this `geoscatter` animation image below, the bubble size represents the reported number of cases with COVID-19. The color of the bubble representes the daily growth rate in the number of cases. The animation frame represents the date starting from Jan 22, 2020."
      ]
    },
    {
      "cell_type": "code",
      "metadata": {
        "id": "RqNrBFE1QPq_",
        "colab_type": "code",
        "colab": {}
      },
      "source": [
        "# Data frame customized for plotly express geo-scatter\n",
        "df_global = d.df_global.copy()\n",
        "date_time = [str(date) for date in df_global.date]\n",
        "date_str = [str.split(date, ' ')[0] for date in date_time]\n",
        "df_global['Date'] = date_str"
      ],
      "execution_count": 0,
      "outputs": []
    },
    {
      "cell_type": "code",
      "metadata": {
        "id": "db4npO8CNkkn",
        "colab_type": "code",
        "colab": {}
      },
      "source": [
        "# Geo scatter of confirmed cases\n",
        "fig = px.scatter_geo(df_global, locations=\"iso_alpha\", color=\"rate\",\n",
        "                     color_continuous_scale='jet', range_color=[1.0, 2.0],\n",
        "                     hover_name=\"country\", size=\"confirmed\",\n",
        "                     animation_frame=\"Date\",\n",
        "                     title='Confirmed case',\n",
        "                     size_max=int(80),\n",
        "                     width=2000, height=1000,\n",
        "                     projection=\"natural earth\")\n",
        "fig.show()"
      ],
      "execution_count": 0,
      "outputs": []
    },
    {
      "cell_type": "code",
      "metadata": {
        "colab_type": "code",
        "id": "j37KYKm4PbSA",
        "colab": {}
      },
      "source": [
        "# Geo scatter of deaths\n",
        "fig = px.scatter_geo(df_global, locations=\"iso_alpha\", color=\"rate\",\n",
        "                     color_continuous_scale='jet', range_color=[1.0, 2.0],\n",
        "                     hover_name=\"country\", size=\"death\",\n",
        "                     animation_frame=\"Date\",\n",
        "                     title='Deaths',\n",
        "                     size_max=int(80),\n",
        "                     width=2000, height=1000,\n",
        "                     projection=\"natural earth\")\n",
        "fig.show()"
      ],
      "execution_count": 0,
      "outputs": []
    },
    {
      "cell_type": "markdown",
      "metadata": {
        "id": "a4sozengx8P0",
        "colab_type": "text"
      },
      "source": [
        "# Animated bubble map of US\n",
        "\n",
        "Animated COVID-19 dashboard for US. Scatter bubbles based on normalized number of cases and deaths per county basis.\n",
        "\n",
        "\n",
        "---\n",
        "\n",
        "Minor correction is made to the population of [Dukes and Nantucket, Massachusetts, US](https://goo.gl/maps/wC7xFAh2zyVoxM2S6) in the database done based on available data. Population of Dukes and Nantucket is corrected to be [17352](https://www.sec.state.ma.us/census2020/dukes-nantucket.html)."
      ]
    },
    {
      "cell_type": "code",
      "metadata": {
        "id": "3UeFxyV5VOW3",
        "colab_type": "code",
        "cellView": "form",
        "colab": {}
      },
      "source": [
        "#@title\n",
        "df_us.Population.values[cll.np.where(df_us.Key == 'Dukes and Nantucket,Massachusetts,US')] = 17352\n",
        "\n",
        "df_us.Number_Cases_per_1mil.values[cll.np.where(df_us.Key == 'Dukes and Nantucket,Massachusetts,US')] = \\\n",
        "    df_us.Confirmed.values[cll.np.where(df_us.Key == 'Dukes and Nantucket,Massachusetts,US')] \\\n",
        "    / df_us.Population.values[cll.np.where(df_us.Key == 'Dukes and Nantucket,Massachusetts,US')]\n",
        "\n",
        "for inum, value in enumerate(df_us.Number_Cases_per_1mil.values):\n",
        "    df_us.Number_Cases_per_1mil.values[inum] = cll.np.floor(value)"
      ],
      "execution_count": 0,
      "outputs": []
    },
    {
      "cell_type": "code",
      "metadata": {
        "id": "UfKBmj1N5-3g",
        "colab_type": "code",
        "cellView": "form",
        "colab": {}
      },
      "source": [
        "#@title\n",
        "date_time = [str(date) for date in df_us.Date]\n",
        "date_str = [str.split(date, ' ')[0] for date in date_time]\n",
        "df_us.Date = date_str"
      ],
      "execution_count": 0,
      "outputs": []
    },
    {
      "cell_type": "markdown",
      "metadata": {
        "id": "7Z2wxhyHqwDw",
        "colab_type": "text"
      },
      "source": [
        "**Animated geo-scatter map of confirmed cases**\n",
        "\n",
        "Animation showing spread of COVID-19 across various locations in USA based on officially reported data. Plot bubble size based on normalized confirmed cases colored by spread rate over 3 day period."
      ]
    },
    {
      "cell_type": "code",
      "metadata": {
        "id": "kRjIpAX1uVAz",
        "colab_type": "code",
        "colab": {}
      },
      "source": [
        "fig = px.scatter_geo(df_us,\n",
        "                     lat=\"Lat\", lon=\"Long\",\n",
        "                     color=\"Rate\",\n",
        "                     color_continuous_scale='jet', range_color=[1.0, 2.0],\n",
        "                     hover_name=\"Key\", size=\"Number_Cases_per_1mil\",\n",
        "                     animation_frame=\"Date\",\n",
        "                     title='Confirmed Cases per 1 mil population',\n",
        "                     size_max=int(8000000),\n",
        "                     width=2000, height=1000,\n",
        "                     scope = 'usa',\n",
        "                     projection=\"albers usa\")\n",
        "fig.show()"
      ],
      "execution_count": 0,
      "outputs": []
    },
    {
      "cell_type": "markdown",
      "metadata": {
        "id": "AMMxBm88rCbQ",
        "colab_type": "text"
      },
      "source": [
        "**Animated geo-scatter map of deaths**\n",
        "\n",
        "Animation showing spread of COVID-19 across various location in USA based on reported deaths from COVID-19. Plot of bubble size based on number of deaths and colored by reported mortality rate. Reported mortality rate is based on deaths and confirmed cases (as reported by local county basis)."
      ]
    },
    {
      "cell_type": "code",
      "metadata": {
        "id": "88mbG_0Ew6WK",
        "colab_type": "code",
        "cellView": "form",
        "colab": {}
      },
      "source": [
        "#@title\n",
        "# Doing some pre-analysis\n",
        "df_us['Norm_Death'] = (df_us.Death / (df_us.Population + 0.0001)) * 1e6"
      ],
      "execution_count": 0,
      "outputs": []
    },
    {
      "cell_type": "code",
      "metadata": {
        "id": "cobjHFCyr5SC",
        "colab_type": "code",
        "colab": {}
      },
      "source": [
        "fig = px.scatter_geo(df_us,\n",
        "                     lat=\"Lat\", lon=\"Long\",\n",
        "                     color=\"Mortality\",\n",
        "                     color_continuous_scale='jet', range_color=[1.0, 10.0],\n",
        "                     hover_name=\"Key\", size=\"Norm_Death\",\n",
        "                     animation_frame=\"Date\",\n",
        "                     title='Deaths per million in county',\n",
        "                     size_max=int(8000000),\n",
        "                     width=2000, height=1000,\n",
        "                     scope = 'usa',\n",
        "                     projection=\"albers usa\")\n",
        "fig.show()"
      ],
      "execution_count": 0,
      "outputs": []
    },
    {
      "cell_type": "markdown",
      "metadata": {
        "id": "xf2JDn3eeu_k",
        "colab_type": "text"
      },
      "source": [
        "# Rank County wide response across US\n",
        "\n",
        "\n",
        "---\n",
        "\n",
        "Rank the county reponse based on deaths per million population in county and report mortality rate based on deaths recorded and confirmed cases."
      ]
    },
    {
      "cell_type": "code",
      "metadata": {
        "id": "auYgVCAwARkU",
        "colab_type": "code",
        "colab": {
          "base_uri": "https://localhost:8080/",
          "height": 979
        },
        "outputId": "301fe6c9-15cc-4ff8-aedc-9b183dcd9525"
      },
      "source": [
        "# Ranking as of latest date in terms of number of deaths per million population under the condition of \n",
        "#   minimal population and occurance of deaths\n",
        "latest_date = df_us.Date.values[-1]\n",
        "df_filtered = (df_us.loc[\n",
        "           (df_us.Date == latest_date) \n",
        "           & (df_us.Population >= 5000) \n",
        "           & (df_us.iso3 == 'USA') \n",
        "           & (df_us.Death >= 5)\n",
        "           ].sort_values(by='Norm_Death', ascending=False))[0:29].loc[\n",
        "                                                                      :, [\n",
        "                                                                          'State',\n",
        "                                                                          'Key',\n",
        "                                                                          'Confirmed',\n",
        "                                                                          'Death',\n",
        "                                                                          'Norm_Death',\n",
        "                                                                          'Mortality',\n",
        "                                                                          'Rate',                                                                          \n",
        "                                                                          ]\n",
        "                                                                      ]\n",
        "                                        \n",
        "df_filtered.set_index('Key')"
      ],
      "execution_count": 87,
      "outputs": [
        {
          "output_type": "execute_result",
          "data": {
            "text/html": [
              "<div>\n",
              "<style scoped>\n",
              "    .dataframe tbody tr th:only-of-type {\n",
              "        vertical-align: middle;\n",
              "    }\n",
              "\n",
              "    .dataframe tbody tr th {\n",
              "        vertical-align: top;\n",
              "    }\n",
              "\n",
              "    .dataframe thead th {\n",
              "        text-align: right;\n",
              "    }\n",
              "</style>\n",
              "<table border=\"1\" class=\"dataframe\">\n",
              "  <thead>\n",
              "    <tr style=\"text-align: right;\">\n",
              "      <th></th>\n",
              "      <th>State</th>\n",
              "      <th>Confirmed</th>\n",
              "      <th>Death</th>\n",
              "      <th>Norm_Death</th>\n",
              "      <th>Mortality</th>\n",
              "      <th>Rate</th>\n",
              "    </tr>\n",
              "    <tr>\n",
              "      <th>Key</th>\n",
              "      <th></th>\n",
              "      <th></th>\n",
              "      <th></th>\n",
              "      <th></th>\n",
              "      <th></th>\n",
              "      <th></th>\n",
              "    </tr>\n",
              "  </thead>\n",
              "  <tbody>\n",
              "    <tr>\n",
              "      <th>New York City, New York, US</th>\n",
              "      <td>New York</td>\n",
              "      <td>103208</td>\n",
              "      <td>6898</td>\n",
              "      <td>1188.652487</td>\n",
              "      <td>6.683590</td>\n",
              "      <td>1.117163</td>\n",
              "    </tr>\n",
              "    <tr>\n",
              "      <th>Terrell, Georgia, US</th>\n",
              "      <td>Georgia</td>\n",
              "      <td>107</td>\n",
              "      <td>10</td>\n",
              "      <td>1172.195508</td>\n",
              "      <td>9.345786</td>\n",
              "      <td>1.069893</td>\n",
              "    </tr>\n",
              "    <tr>\n",
              "      <th>St. John the Baptist, Louisiana, US</th>\n",
              "      <td>Louisiana</td>\n",
              "      <td>545</td>\n",
              "      <td>38</td>\n",
              "      <td>887.083594</td>\n",
              "      <td>6.972476</td>\n",
              "      <td>1.074929</td>\n",
              "    </tr>\n",
              "    <tr>\n",
              "      <th>Dougherty, Georgia, US</th>\n",
              "      <td>Georgia</td>\n",
              "      <td>1154</td>\n",
              "      <td>72</td>\n",
              "      <td>818.591113</td>\n",
              "      <td>6.239168</td>\n",
              "      <td>1.086619</td>\n",
              "    </tr>\n",
              "    <tr>\n",
              "      <th>Randolph, Georgia, US</th>\n",
              "      <td>Georgia</td>\n",
              "      <td>105</td>\n",
              "      <td>5</td>\n",
              "      <td>737.680721</td>\n",
              "      <td>4.761900</td>\n",
              "      <td>1.071319</td>\n",
              "    </tr>\n",
              "    <tr>\n",
              "      <th>Nassau, New York, US</th>\n",
              "      <td>New York</td>\n",
              "      <td>23553</td>\n",
              "      <td>846</td>\n",
              "      <td>623.468964</td>\n",
              "      <td>3.591899</td>\n",
              "      <td>1.094877</td>\n",
              "    </tr>\n",
              "    <tr>\n",
              "      <th>Rockland, New York, US</th>\n",
              "      <td>New York</td>\n",
              "      <td>7721</td>\n",
              "      <td>200</td>\n",
              "      <td>613.894269</td>\n",
              "      <td>2.590338</td>\n",
              "      <td>1.084104</td>\n",
              "    </tr>\n",
              "    <tr>\n",
              "      <th>Orleans, Louisiana, US</th>\n",
              "      <td>Louisiana</td>\n",
              "      <td>5600</td>\n",
              "      <td>235</td>\n",
              "      <td>602.341699</td>\n",
              "      <td>4.196428</td>\n",
              "      <td>1.033972</td>\n",
              "    </tr>\n",
              "    <tr>\n",
              "      <th>Mitchell, Georgia, US</th>\n",
              "      <td>Georgia</td>\n",
              "      <td>136</td>\n",
              "      <td>13</td>\n",
              "      <td>594.611899</td>\n",
              "      <td>9.558817</td>\n",
              "      <td>1.038089</td>\n",
              "    </tr>\n",
              "    <tr>\n",
              "      <th>Early, Georgia, US</th>\n",
              "      <td>Georgia</td>\n",
              "      <td>121</td>\n",
              "      <td>6</td>\n",
              "      <td>588.812556</td>\n",
              "      <td>4.958674</td>\n",
              "      <td>1.152271</td>\n",
              "    </tr>\n",
              "    <tr>\n",
              "      <th>Essex, New Jersey, US</th>\n",
              "      <td>New Jersey</td>\n",
              "      <td>7410</td>\n",
              "      <td>428</td>\n",
              "      <td>535.686348</td>\n",
              "      <td>5.775978</td>\n",
              "      <td>1.126138</td>\n",
              "    </tr>\n",
              "    <tr>\n",
              "      <th>Westchester, New York, US</th>\n",
              "      <td>New York</td>\n",
              "      <td>19313</td>\n",
              "      <td>511</td>\n",
              "      <td>528.162099</td>\n",
              "      <td>2.645886</td>\n",
              "      <td>1.068374</td>\n",
              "    </tr>\n",
              "    <tr>\n",
              "      <th>Lee, Georgia, US</th>\n",
              "      <td>Georgia</td>\n",
              "      <td>239</td>\n",
              "      <td>15</td>\n",
              "      <td>500.133367</td>\n",
              "      <td>6.276148</td>\n",
              "      <td>1.076528</td>\n",
              "    </tr>\n",
              "    <tr>\n",
              "      <th>Bergen, New Jersey, US</th>\n",
              "      <td>New Jersey</td>\n",
              "      <td>9784</td>\n",
              "      <td>453</td>\n",
              "      <td>485.946179</td>\n",
              "      <td>4.630008</td>\n",
              "      <td>1.095877</td>\n",
              "    </tr>\n",
              "    <tr>\n",
              "      <th>St. James, Louisiana, US</th>\n",
              "      <td>Louisiana</td>\n",
              "      <td>204</td>\n",
              "      <td>10</td>\n",
              "      <td>474.023509</td>\n",
              "      <td>4.901958</td>\n",
              "      <td>1.051492</td>\n",
              "    </tr>\n",
              "    <tr>\n",
              "      <th>St. Charles, Louisiana, US</th>\n",
              "      <td>Louisiana</td>\n",
              "      <td>404</td>\n",
              "      <td>25</td>\n",
              "      <td>470.809792</td>\n",
              "      <td>6.188117</td>\n",
              "      <td>1.074440</td>\n",
              "    </tr>\n",
              "    <tr>\n",
              "      <th>Plaquemines, Louisiana, US</th>\n",
              "      <td>Louisiana</td>\n",
              "      <td>137</td>\n",
              "      <td>10</td>\n",
              "      <td>431.090225</td>\n",
              "      <td>7.299265</td>\n",
              "      <td>1.053765</td>\n",
              "    </tr>\n",
              "    <tr>\n",
              "      <th>Iberville, Louisiana, US</th>\n",
              "      <td>Louisiana</td>\n",
              "      <td>232</td>\n",
              "      <td>14</td>\n",
              "      <td>430.623480</td>\n",
              "      <td>6.034480</td>\n",
              "      <td>1.171658</td>\n",
              "    </tr>\n",
              "    <tr>\n",
              "      <th>Wayne, Michigan, US</th>\n",
              "      <td>Michigan</td>\n",
              "      <td>11164</td>\n",
              "      <td>704</td>\n",
              "      <td>402.436801</td>\n",
              "      <td>6.305983</td>\n",
              "      <td>1.059303</td>\n",
              "    </tr>\n",
              "    <tr>\n",
              "      <th>Jefferson, Louisiana, US</th>\n",
              "      <td>Louisiana</td>\n",
              "      <td>4990</td>\n",
              "      <td>173</td>\n",
              "      <td>400.006474</td>\n",
              "      <td>3.466934</td>\n",
              "      <td>1.066693</td>\n",
              "    </tr>\n",
              "    <tr>\n",
              "      <th>Orange, New York, US</th>\n",
              "      <td>New York</td>\n",
              "      <td>5027</td>\n",
              "      <td>145</td>\n",
              "      <td>376.682080</td>\n",
              "      <td>2.884424</td>\n",
              "      <td>1.109221</td>\n",
              "    </tr>\n",
              "    <tr>\n",
              "      <th>Decatur, Indiana, US</th>\n",
              "      <td>Indiana</td>\n",
              "      <td>127</td>\n",
              "      <td>10</td>\n",
              "      <td>376.520199</td>\n",
              "      <td>7.874010</td>\n",
              "      <td>1.076180</td>\n",
              "    </tr>\n",
              "    <tr>\n",
              "      <th>Union, New Jersey, US</th>\n",
              "      <td>New Jersey</td>\n",
              "      <td>6180</td>\n",
              "      <td>209</td>\n",
              "      <td>375.668879</td>\n",
              "      <td>3.381877</td>\n",
              "      <td>1.108518</td>\n",
              "    </tr>\n",
              "    <tr>\n",
              "      <th>Franklin, Massachusetts, US</th>\n",
              "      <td>Massachusetts</td>\n",
              "      <td>143</td>\n",
              "      <td>25</td>\n",
              "      <td>356.226845</td>\n",
              "      <td>17.482505</td>\n",
              "      <td>1.059181</td>\n",
              "    </tr>\n",
              "    <tr>\n",
              "      <th>Suffolk, New York, US</th>\n",
              "      <td>New York</td>\n",
              "      <td>20934</td>\n",
              "      <td>518</td>\n",
              "      <td>350.805668</td>\n",
              "      <td>2.474443</td>\n",
              "      <td>1.030216</td>\n",
              "    </tr>\n",
              "    <tr>\n",
              "      <th>West Baton Rouge, Louisiana, US</th>\n",
              "      <td>Louisiana</td>\n",
              "      <td>68</td>\n",
              "      <td>9</td>\n",
              "      <td>340.071792</td>\n",
              "      <td>13.235275</td>\n",
              "      <td>1.114571</td>\n",
              "    </tr>\n",
              "    <tr>\n",
              "      <th>Hudson, New Jersey, US</th>\n",
              "      <td>New Jersey</td>\n",
              "      <td>7469</td>\n",
              "      <td>226</td>\n",
              "      <td>336.113957</td>\n",
              "      <td>3.025840</td>\n",
              "      <td>1.165027</td>\n",
              "    </tr>\n",
              "    <tr>\n",
              "      <th>Morris, New Jersey, US</th>\n",
              "      <td>New Jersey</td>\n",
              "      <td>3099</td>\n",
              "      <td>162</td>\n",
              "      <td>329.372058</td>\n",
              "      <td>5.227493</td>\n",
              "      <td>1.118365</td>\n",
              "    </tr>\n",
              "    <tr>\n",
              "      <th>Franklin, Indiana, US</th>\n",
              "      <td>Indiana</td>\n",
              "      <td>69</td>\n",
              "      <td>7</td>\n",
              "      <td>307.584145</td>\n",
              "      <td>10.144913</td>\n",
              "      <td>1.045296</td>\n",
              "    </tr>\n",
              "  </tbody>\n",
              "</table>\n",
              "</div>"
            ],
            "text/plain": [
              "                                             State  ...      Rate\n",
              "Key                                                 ...          \n",
              "New York City, New York, US               New York  ...  1.117163\n",
              "Terrell, Georgia, US                       Georgia  ...  1.069893\n",
              "St. John the Baptist, Louisiana, US      Louisiana  ...  1.074929\n",
              "Dougherty, Georgia, US                     Georgia  ...  1.086619\n",
              "Randolph, Georgia, US                      Georgia  ...  1.071319\n",
              "Nassau, New York, US                      New York  ...  1.094877\n",
              "Rockland, New York, US                    New York  ...  1.084104\n",
              "Orleans, Louisiana, US                   Louisiana  ...  1.033972\n",
              "Mitchell, Georgia, US                      Georgia  ...  1.038089\n",
              "Early, Georgia, US                         Georgia  ...  1.152271\n",
              "Essex, New Jersey, US                   New Jersey  ...  1.126138\n",
              "Westchester, New York, US                 New York  ...  1.068374\n",
              "Lee, Georgia, US                           Georgia  ...  1.076528\n",
              "Bergen, New Jersey, US                  New Jersey  ...  1.095877\n",
              "St. James, Louisiana, US                 Louisiana  ...  1.051492\n",
              "St. Charles, Louisiana, US               Louisiana  ...  1.074440\n",
              "Plaquemines, Louisiana, US               Louisiana  ...  1.053765\n",
              "Iberville, Louisiana, US                 Louisiana  ...  1.171658\n",
              "Wayne, Michigan, US                       Michigan  ...  1.059303\n",
              "Jefferson, Louisiana, US                 Louisiana  ...  1.066693\n",
              "Orange, New York, US                      New York  ...  1.109221\n",
              "Decatur, Indiana, US                       Indiana  ...  1.076180\n",
              "Union, New Jersey, US                   New Jersey  ...  1.108518\n",
              "Franklin, Massachusetts, US          Massachusetts  ...  1.059181\n",
              "Suffolk, New York, US                     New York  ...  1.030216\n",
              "West Baton Rouge, Louisiana, US          Louisiana  ...  1.114571\n",
              "Hudson, New Jersey, US                  New Jersey  ...  1.165027\n",
              "Morris, New Jersey, US                  New Jersey  ...  1.118365\n",
              "Franklin, Indiana, US                      Indiana  ...  1.045296\n",
              "\n",
              "[29 rows x 6 columns]"
            ]
          },
          "metadata": {
            "tags": []
          },
          "execution_count": 87
        }
      ]
    }
  ]
}