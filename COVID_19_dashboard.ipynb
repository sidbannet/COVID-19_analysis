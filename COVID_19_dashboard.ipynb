{
  "nbformat": 4,
  "nbformat_minor": 0,
  "metadata": {
    "colab": {
      "name": "COVID-19 dashboard",
      "provenance": [],
      "collapsed_sections": [
        "clYmV2OUz2lS",
        "yU1PjjwzOb__"
      ],
      "toc_visible": true,
      "authorship_tag": "ABX9TyPB4Z99IuFNfFH75u94liOQ",
      "include_colab_link": true
    },
    "kernelspec": {
      "name": "python3",
      "display_name": "Python 3"
    }
  },
  "cells": [
    {
      "cell_type": "markdown",
      "metadata": {
        "id": "view-in-github",
        "colab_type": "text"
      },
      "source": [
        "<a href=\"https://colab.research.google.com/github/sidbannet/COVID-19_analysis/blob/master/COVID_19_dashboard.ipynb\" target=\"_parent\"><img src=\"https://colab.research.google.com/assets/colab-badge.svg\" alt=\"Open In Colab\"/></a>"
      ]
    },
    {
      "cell_type": "markdown",
      "metadata": {
        "id": "ttxDgqG0wCbh",
        "colab_type": "text"
      },
      "source": [
        "# Author Bio\n",
        "\n",
        "[LinkedIn profile](https://www.linkedin.com/in/sidban)\n",
        "\n",
        "[Resume](https://docs.google.com/document/d/1uVc9le7LM2WMmGM4ub9w2uI1FY7I63h7SBxNGyIItWc/edit?usp=sharing)\n",
        "\n",
        "[GitHub](https://github.com/sidbannet?tab=repositories)\n",
        "\n",
        "---\n",
        "I develop **high-performance computation models** to understand *turbulence flow*, *multi-phase flow* and *combustion flames*. I apply **data-science** to accelerate design innovations in *propulsion* device.\n",
        "\n",
        "I received **PhD** from **University of Wisconsin - Madison** in 2011 with major in **Mechanical and Chemical Engineering** and distributed minor in *Mathamatics*, *Statistics* and *Computer Science*.\n",
        "\n",
        "I received recognitions for my work in clean propulsion innovation from [United States Deparment Of Energy](https://www.energy.gov/eere/vehicles/vehicle-technologies-office) and [Dr. Stephen Chu](https://en.wikipedia.org/wiki/Steven_Chu)."
      ]
    },
    {
      "cell_type": "markdown",
      "metadata": {
        "id": "ClysgQctcY-Z",
        "colab_type": "text"
      },
      "source": [
        "# About COVID-19 tracker\n",
        "\n",
        "\n",
        "---\n",
        "This is 2019 Novel Coronavirus Visual Dashboard operated by [Siddhartha Banerjee](https://www.linkedin.com/in/sidban) by using data published by the Johns Hopkins University Center for Systems Science and Engineering (JHU CSSE). Also, Supported by ESRI Living Atlas Team and the Johns Hopkins University Applied Physics Lab (JHU APL).\n",
        "\n",
        "**Data Sources**:\n",
        "\n",
        "World Health Organization (WHO): https://www.who.int/ DXY.cn. Pneumonia. 2020. http://3g.dxy.cn/newh5/view/pneumonia. BNO News: https://bnonews.com/index.php/2020/02/the-latest-coronavirus-cases/ National Health Commission of the People’s Republic of China (NHC): http://www.nhc.gov.cn/xcs/yqtb/list_gzbd.shtml China CDC (CCDC): http://weekly.chinacdc.cn/news/TrackingtheEpidemic.htm Hong Kong Department of Health: https://www.chp.gov.hk/en/features/102465.html Macau Government: https://www.ssm.gov.mo/portal/ Taiwan CDC: https://sites.google.com/cdc.gov.tw/2019ncov/taiwan?authuser=0 US CDC: https://www.cdc.gov/coronavirus/2019-ncov/index.html Government of Canada: https://www.canada.ca/en/public-health/services/diseases/coronavirus.html Australia Government Department of Health: https://www.health.gov.au/news/coronavirus-update-at-a-glance European Centre for Disease Prevention and Control (ECDC): https://www.ecdc.europa.eu/en/geographical-distribution-2019-ncov-cases Ministry of Health Singapore (MOH): https://www.moh.gov.sg/covid-19 Italy Ministry of Health: http://www.salute.gov.it/nuovocoronavirus 1Point3Arces: https://coronavirus.1point3acres.com/en WorldoMeters: https://www.worldometers.info/coronavirus/\n",
        "\n",
        "Additional Information about the Visual Dashboard: https://systems.jhu.edu/research/public-health/ncov/\n",
        "\n",
        "**Contact Me**: \n",
        "sidban@uwalumni.com\n"
      ]
    },
    {
      "cell_type": "markdown",
      "metadata": {
        "id": "Qx-xElTvdSvk",
        "colab_type": "text"
      },
      "source": [
        "# Clone the Git repository\n",
        "\n",
        "---\n",
        "\n",
        "*   Clone code and data repository\n",
        "*   Setup environmental variables"
      ]
    },
    {
      "cell_type": "code",
      "metadata": {
        "id": "jmt92ggNdmYj",
        "colab_type": "code",
        "colab": {
          "base_uri": "https://localhost:8080/",
          "height": 204
        },
        "outputId": "d97b31aa-4197-43a3-abbb-90a73b08d769"
      },
      "source": [
        "# Clone repository\n",
        "!git clone https://github.com/sidbannet/COVID-19_analysis.git\n",
        "%cd ./COVID-19_analysis\n",
        "!git submodule init\n",
        "!git submodule update --remote"
      ],
      "execution_count": 1,
      "outputs": [
        {
          "output_type": "stream",
          "text": [
            "Cloning into 'COVID-19_analysis'...\n",
            "remote: Enumerating objects: 208, done.\u001b[K\n",
            "remote: Counting objects: 100% (208/208), done.\u001b[K\n",
            "remote: Compressing objects: 100% (124/124), done.\u001b[K\n",
            "remote: Total 569 (delta 119), reused 159 (delta 81), pack-reused 361\u001b[K\n",
            "Receiving objects: 100% (569/569), 14.45 MiB | 22.45 MiB/s, done.\n",
            "Resolving deltas: 100% (327/327), done.\n",
            "/content/COVID-19_analysis\n",
            "Submodule 'JHU_repo' (https://github.com/sidbannet/COVID-19.git) registered for path 'JHU_repo'\n",
            "Cloning into '/content/COVID-19_analysis/JHU_repo'...\n",
            "Submodule path 'JHU_repo': checked out '703bda857cb0adbc804818ec090fed39627fb86e'\n"
          ],
          "name": "stdout"
        }
      ]
    },
    {
      "cell_type": "markdown",
      "metadata": {
        "id": "5ljCCd-bd-dX",
        "colab_type": "text"
      },
      "source": [
        "# Load packages\n",
        "---\n",
        "*   Analysis tools\n",
        "*   Plotting tools"
      ]
    },
    {
      "cell_type": "code",
      "metadata": {
        "id": "stO3t_koeEU4",
        "colab_type": "code",
        "colab": {}
      },
      "source": [
        "# Import nessesary modules\n",
        "from tools import collection as cll\n",
        "import plotly.tools as tls\n",
        "from plotly.offline import iplot\n",
        "import plotly.express as px"
      ],
      "execution_count": 0,
      "outputs": []
    },
    {
      "cell_type": "markdown",
      "metadata": {
        "id": "cBp-P3obegs0",
        "colab_type": "text"
      },
      "source": [
        "# Parse data from the database\n",
        "---\n",
        "\n",
        "*   Setup classes containing the data and methods to parse data\n",
        "*   Parse the data\n",
        "\n"
      ]
    },
    {
      "cell_type": "code",
      "metadata": {
        "id": "xWAhrRasfHdw",
        "colab_type": "code",
        "colab": {}
      },
      "source": [
        "# Setup data class and parse the database\n",
        "d = cll.DataClass()\n",
        "d.parse()"
      ],
      "execution_count": 0,
      "outputs": []
    },
    {
      "cell_type": "code",
      "metadata": {
        "id": "oMFWn1UQ3akT",
        "colab_type": "code",
        "colab": {}
      },
      "source": [
        "d._parse_timeseries_()\n",
        "df_us = d.df_geo_us"
      ],
      "execution_count": 0,
      "outputs": []
    },
    {
      "cell_type": "markdown",
      "metadata": {
        "id": "URVFIiSZv6eF",
        "colab_type": "text"
      },
      "source": [
        "Optional plots to check out the trends by comparing the rate of increase of COVID cases against the total number of COVID cases"
      ]
    },
    {
      "cell_type": "code",
      "metadata": {
        "id": "_T9JCTP8jCnN",
        "colab_type": "code",
        "cellView": "form",
        "colab": {}
      },
      "source": [
        "#@title\n",
        "# Setup figure objects\n",
        "d.__window__ = 5\n",
        "fig, ax = d.plots()\n",
        "[axes.legend() for axes in ax.flat]\n",
        "fig.set_size_inches(w=24, h=12)"
      ],
      "execution_count": 0,
      "outputs": []
    },
    {
      "cell_type": "markdown",
      "metadata": {
        "id": "clYmV2OUz2lS",
        "colab_type": "text"
      },
      "source": [
        "# Plot COVID-19 trends\n",
        "---\n",
        "Plot COVID-19 time series data per country and per state basis with\n",
        "*   Number of confirmed cases\n",
        "*   Number of deaths from COVID\n",
        "*   Number of recovered from COVID\n",
        "\n",
        "Plot these variables in log scale to highlight exponential growth in pandemic against days since initial outbreak."
      ]
    },
    {
      "cell_type": "code",
      "metadata": {
        "id": "CyYoIo7YzMz1",
        "colab_type": "code",
        "colab": {}
      },
      "source": [
        "# Make some meaningful timeseries plots\n",
        "fig, ax = d.plots_timeseries(\n",
        "  n_outbreak=500, n_filter_country=10000, n_filter_state=5000)\n",
        "fig.set_size_inches(w=24, h=12)\n",
        "_ = [axes.set_ylim([10, 50000]) for axes in ax[:, 1].flat]\n",
        "_ = ax[0, 0].set_xlim([0, 50])\n",
        "_ = ax[0, 0].get_legend().remove()\n",
        "_ = ax[0, 1].get_legend().remove()\n",
        "_ = ax[1, 0].get_legend().remove()\n",
        "_ = ax[1, 1].get_legend().remove()"
      ],
      "execution_count": 0,
      "outputs": []
    },
    {
      "cell_type": "code",
      "metadata": {
        "id": "4I6SzIRJiJg-",
        "colab_type": "code",
        "colab": {}
      },
      "source": [
        "# Convert and plot in plotly\n",
        "plotly_fig = tls.mpl_to_plotly(fig) \n",
        "iplot(plotly_fig)"
      ],
      "execution_count": 0,
      "outputs": []
    },
    {
      "cell_type": "markdown",
      "metadata": {
        "id": "yU1PjjwzOb__",
        "colab_type": "text"
      },
      "source": [
        "# Global spread of COVID-19\n",
        "\n",
        "In this `geoscatter` animation image below, the bubble size represents the reported number of cases with COVID-19. The color of the bubble representes the daily growth rate in the number of cases. The animation frame represents the date starting from Jan 22, 2020."
      ]
    },
    {
      "cell_type": "code",
      "metadata": {
        "id": "RqNrBFE1QPq_",
        "colab_type": "code",
        "colab": {}
      },
      "source": [
        "# Data frame customized for plotly express geo-scatter\n",
        "df_global = d.df_global.copy()\n",
        "date_time = [str(date) for date in df_global.date]\n",
        "date_str = [str.split(date, ' ')[0] for date in date_time]\n",
        "df_global['Date'] = date_str"
      ],
      "execution_count": 0,
      "outputs": []
    },
    {
      "cell_type": "code",
      "metadata": {
        "id": "db4npO8CNkkn",
        "colab_type": "code",
        "colab": {}
      },
      "source": [
        "# Geo scatter of confirmed cases\n",
        "fig = px.scatter_geo(df_global, locations=\"iso_alpha\", color=\"rate\",\n",
        "                     color_continuous_scale='jet', range_color=[1.0, 2.0],\n",
        "                     hover_name=\"country\", size=\"confirmed\",\n",
        "                     animation_frame=\"Date\",\n",
        "                     title='Confirmed case',\n",
        "                     size_max=int(80),\n",
        "                     width=2000, height=1000,\n",
        "                     projection=\"natural earth\")\n",
        "fig.show()"
      ],
      "execution_count": 0,
      "outputs": []
    },
    {
      "cell_type": "code",
      "metadata": {
        "colab_type": "code",
        "id": "j37KYKm4PbSA",
        "colab": {}
      },
      "source": [
        "# Geo scatter of deaths\n",
        "fig = px.scatter_geo(df_global, locations=\"iso_alpha\", color=\"rate\",\n",
        "                     color_continuous_scale='jet', range_color=[1.0, 2.0],\n",
        "                     hover_name=\"country\", size=\"death\",\n",
        "                     animation_frame=\"Date\",\n",
        "                     title='Deaths',\n",
        "                     size_max=int(80),\n",
        "                     width=2000, height=1000,\n",
        "                     projection=\"natural earth\")\n",
        "fig.show()"
      ],
      "execution_count": 0,
      "outputs": []
    },
    {
      "cell_type": "markdown",
      "metadata": {
        "id": "a4sozengx8P0",
        "colab_type": "text"
      },
      "source": [
        "# Animated bubble map of US\n",
        "\n",
        "Animated COVID-19 dashboard for US. Scatter bubbles based on normalized number of cases and deaths per county basis.\n",
        "\n",
        "\n",
        "---\n",
        "\n",
        "Minor correction is made to the population of [Dukes and Nantucket, Massachusetts, US](https://goo.gl/maps/wC7xFAh2zyVoxM2S6) in the database done based on available data. Population of Dukes and Nantucket is corrected to be [17352](https://www.sec.state.ma.us/census2020/dukes-nantucket.html)."
      ]
    },
    {
      "cell_type": "code",
      "metadata": {
        "id": "3UeFxyV5VOW3",
        "colab_type": "code",
        "colab": {},
        "cellView": "form"
      },
      "source": [
        "#@title\n",
        "df_us.Population.values[cll.np.where(df_us.Key == 'Dukes and Nantucket,Massachusetts,US')] = 17352\n",
        "\n",
        "df_us.Number_Cases_per_1mil.values[cll.np.where(df_us.Key == 'Dukes and Nantucket,Massachusetts,US')] = \\\n",
        "    df_us.Confirmed.values[cll.np.where(df_us.Key == 'Dukes and Nantucket,Massachusetts,US')] \\\n",
        "    / df_us.Population.values[cll.np.where(df_us.Key == 'Dukes and Nantucket,Massachusetts,US')]\n",
        "\n",
        "for inum, value in enumerate(df_us.Number_Cases_per_1mil.values):\n",
        "    df_us.Number_Cases_per_1mil.values[inum] = cll.np.floor(value)"
      ],
      "execution_count": 0,
      "outputs": []
    },
    {
      "cell_type": "code",
      "metadata": {
        "id": "UfKBmj1N5-3g",
        "colab_type": "code",
        "colab": {},
        "cellView": "form"
      },
      "source": [
        "#@title\n",
        "date_time = [str(date) for date in df_us.Date]\n",
        "date_str = [str.split(date, ' ')[0] for date in date_time]\n",
        "df_us.Date = date_str"
      ],
      "execution_count": 0,
      "outputs": []
    },
    {
      "cell_type": "markdown",
      "metadata": {
        "id": "7Z2wxhyHqwDw",
        "colab_type": "text"
      },
      "source": [
        "**Animated geo-scatter map of confirmed cases**\n",
        "\n",
        "Animation showing spread of COVID-19 across various locations in USA based on officially reported data. Plot bubble size based on normalized confirmed cases colored by spread rate over 3 day period."
      ]
    },
    {
      "cell_type": "code",
      "metadata": {
        "id": "kRjIpAX1uVAz",
        "colab_type": "code",
        "colab": {}
      },
      "source": [
        "fig = px.scatter_geo(df_us,\n",
        "                     lat=\"Lat\", lon=\"Long\",\n",
        "                     color=\"Rate\",\n",
        "                     color_continuous_scale='jet', range_color=[1.0, 2.0],\n",
        "                     hover_name=\"Key\", size=\"Number_Cases_per_1mil\",\n",
        "                     animation_frame=\"Date\",\n",
        "                     title='Confirmed Cases per 1 mil population',\n",
        "                     size_max=int(8000000),\n",
        "                     width=2000, height=1000,\n",
        "                     scope = 'usa',\n",
        "                     projection=\"albers usa\")\n",
        "fig.show()"
      ],
      "execution_count": 0,
      "outputs": []
    },
    {
      "cell_type": "markdown",
      "metadata": {
        "id": "AMMxBm88rCbQ",
        "colab_type": "text"
      },
      "source": [
        "**Animated geo-scatter map of deaths**\n",
        "\n",
        "Animation showing spread of COVID-19 across various location in USA based on reported deaths from COVID-19. Plot of bubble size based on number of deaths and colored by reported mortality rate. Reported mortality rate is based on deaths and confirmed cases (as reported by local county basis)."
      ]
    },
    {
      "cell_type": "code",
      "metadata": {
        "id": "88mbG_0Ew6WK",
        "colab_type": "code",
        "colab": {}
      },
      "source": [
        "# Doing some pre-analysis\n",
        "df_us['Norm_Death'] = (df_us.Death / (df_us.Population + 0.0001)) * 1e6"
      ],
      "execution_count": 0,
      "outputs": []
    },
    {
      "cell_type": "code",
      "metadata": {
        "id": "cobjHFCyr5SC",
        "colab_type": "code",
        "colab": {}
      },
      "source": [
        "fig = px.scatter_geo(df_us,\n",
        "                     lat=\"Lat\", lon=\"Long\",\n",
        "                     color=\"Mortality\",\n",
        "                     color_continuous_scale='jet', range_color=[1.0, 10.0],\n",
        "                     hover_name=\"Key\", size=\"Norm_Death\",\n",
        "                     animation_frame=\"Date\",\n",
        "                     title='Deaths per million in county',\n",
        "                     size_max=int(8000000),\n",
        "                     width=2000, height=1000,\n",
        "                     scope = 'usa',\n",
        "                     projection=\"albers usa\")\n",
        "fig.show()"
      ],
      "execution_count": 0,
      "outputs": []
    }
  ]
}